{
 "cells": [
  {
   "cell_type": "code",
   "execution_count": 2,
   "metadata": {},
   "outputs": [],
   "source": [
    "import torch\n",
    "import gc\n",
    "import numpy as np\n",
    "from IPython.display import clear_output\n",
    "import torch.nn.functional as F"
   ]
  },
  {
   "cell_type": "code",
   "execution_count": 3,
   "metadata": {},
   "outputs": [],
   "source": [
    "torch.set_num_threads(8)"
   ]
  },
  {
   "cell_type": "code",
   "execution_count": 4,
   "metadata": {},
   "outputs": [],
   "source": [
    "gc.enable()"
   ]
  },
  {
   "cell_type": "code",
   "execution_count": 5,
   "metadata": {},
   "outputs": [],
   "source": [
    "from transformers import GPTNeoForCausalLM, GPT2TokenizerFast\n",
    "# device = 'cuda'\n",
    "device = 'cpu'\n",
    "model_name = 'EleutherAI/gpt-neo-2.7B'\n",
    "model = GPTNeoForCausalLM.from_pretrained(model_name)\n",
    "\n",
    "model.to(device)\n",
    "tokenizer = GPT2TokenizerFast.from_pretrained(model_name)"
   ]
  },
  {
   "cell_type": "code",
   "execution_count": 7,
   "metadata": {},
   "outputs": [],
   "source": [
    "@torch.no_grad()\n",
    "def generate_response_greedy(input_text, pre_prompt, break_word,max_length=100,temp=0.7, name='',\n",
    "                            past_key_vals = None, next_id=None):\n",
    "\n",
    "#     print(pre_prompt, input_text)\n",
    "    if past_key_vals is None:\n",
    "        inputs = tokenizer.encode(pre_prompt + input_text + '\\n' + name, return_tensors=\"pt\")\n",
    "        response_ids = inputs\n",
    "        length_prompt = len(response_ids)\n",
    "        output = ''\n",
    "        last_n = ''\n",
    "    else:\n",
    "        inputs = tokenizer.encode(input_text + '\\n' + name, return_tensors=\"pt\")\n",
    "        response_ids = torch.concat((next_id, inputs),dim=-1)\n",
    "        length_prompt = len(response_ids)\n",
    "        output = ''\n",
    "        last_n = ''\n",
    "    print(name, end='')\n",
    "#     print(tokenizer.decode(response_ids[0]))\n",
    "    for _ in (range(max_length)):\n",
    "        out = model.forward(input_ids=response_ids.to(device), past_key_values=past_key_vals)\n",
    "#         next_token_id = out.logits[:, -1, :].argmax(-1,keepdim=True)\n",
    "        next_token_id = torch.multinomial(F.softmax(out.logits[:, -1, :]/temp,  dim=-1), num_samples=1).to('cpu')\n",
    "        past_key_vals = out.past_key_values\n",
    "        response_ids = next_token_id\n",
    "#         clear_output(wait=True)\n",
    "        output = tokenizer.decode([response_ids[0][-1]], skip_special_tokens=True)\n",
    "        print(output, end='')\n",
    "        last_n += output\n",
    "        last_n = last_n[-len(break_word):]\n",
    "#         print(last_5)\n",
    "        if last_n == break_word:\n",
    "            break\n",
    "    decoded_output = tokenizer.decode(response_ids[0], skip_special_tokens=True)\n",
    "    past_kv = past_key_vals\n",
    "    next_id = response_ids\n",
    "    return decoded_output.replace(pre_prompt, '').replace(input_text, ''), past_kv, next_id\n"
   ]
  },
  {
   "cell_type": "code",
   "execution_count": 8,
   "metadata": {},
   "outputs": [],
   "source": [
    "john_pre_prompt = '''\n",
    "[JOHN] Hey Jack, how's it going?\n",
    "[USER] Hey man, it's going pretty well. How about you?\n",
    "[JOHN] I'm hanging in there. Just trying to keep up with all these assignments.\n",
    "[USER] Yeah, I hear you. Speaking of assignments, have you finished the one for Professor Smith's class?\n",
    "[JOHN] Not yet, I still have a bit more to do. How about you?\n",
    "[USER] Same here. This one's a toughie. \n",
    "[USER] Hey man, I've been thinking about what we talked about yesterday. I'm not sure I can handle this workload anymore.\n",
    "[JOHN] I know what you mean. It's a lot to handle. But don't worry, we'll get through it.\n",
    "[USER] I hope so. I'm just feeling so overwhelmed.\n",
    "[JOHN] Have you talked to your academic advisor about it?\n",
    "[USER] No, I haven't yet. I was hoping to talk to you about it first.\n",
    "[JOHN] Well, I think it's a good idea to talk to them. They might be able to give you some good advice.\n",
    "[USER] Hey man, I just got an email about a summer internship.\n",
    "[JOHN] That's great! Where at?\n",
    "[USER] It's with a startup in San Francisco. I'm pretty excited about it.\n",
    "[JOHN] Nice! You should definitely go for it.\n",
    "[USER] Yeah, I'm definitely considering it. But it's a big move.\n",
    "[JOHN] True, but it could be a great opportunity for you.\n",
    "[USER] Hey man, I'm all settled into my new apartment in San Francisco.\n",
    "[JOHN] That's great to hear! How's everything going?\n",
    "[USER] It's going pretty well so far. The internship is keeping me busy, but I'm learning a lot.\n",
    "[JOHN] That's awesome. Have you had a chance to explore the city at all?\n",
    "[USER] A little bit. It's such a cool place.\n",
    "[JOHN] I bet. Well, let me know how everything goes. And don't forget to keep me updated on your adventures!\n",
    "[USER] Haha, I won't. Talk to you soon, man.\n",
    "[JOHN] Hey Jack, have you decided which classes you're taking next semester?\n",
    "[USER] Not yet, I'm still trying to figure it out. How about you?\n",
    "[JOHN] I'm taking Intro to Marketing and Advanced Statistics.\n",
    "[USER] Nice, I was thinking about taking Marketing too. What made you choose that one?\n",
    "[JOHN] Well, I'm really interested in branding and advertising, so I figured it would be a good fit.\n",
    "[USER] That makes sense. I was thinking about taking a computer science class, but I'm not sure if I'm ready for that yet.\n",
    "[JOHN] You should go for it! You never know, you might end up really enjoying it.\n",
    "[USER] '''"
   ]
  },
  {
   "cell_type": "code",
   "execution_count": 9,
   "metadata": {},
   "outputs": [],
   "source": [
    "teacher_pre_prompt = '''\n",
    "[TEACHER] How are you? \n",
    "[STUDENT] Fine.\n",
    "[TEACHER] What is a binary tree?\n",
    "[STUDENT] A binary tree is a tree that has two types of nodes:\n",
    "-   leaves: the nodes that are not part of the tree.\n",
    "-   nodes: the nodes that are part of the tree.\n",
    "[TEACHER] How does an engine work?\n",
    "[STUDENT] The engine consists of a fixed cylinder and a moving piston. \n",
    "The expanding combustion gases push the piston, which in turn rotates the crankshaft. \n",
    "Ultimately, through a system of gears in the powertrain, \n",
    "this motion drives the vehicle's wheels.\n",
    "[TEACHER] What is a crankshaft?\n",
    "[STUDENT] The crankshaft is a rotating shaft containing one or more crankpins,\n",
    "that are driven by the pistons via the connecting rods.\n",
    "[TEACHER] Where is it used? \n",
    "[STUDENT] The crankshaft is essentially the backbone of the internal combustion engine.\n",
    "[TEACHER] What is 3 / 2?\n",
    "[STUDENT] 1.5\n",
    "[TEACHER] Write code for matrix multiplication in python.\n",
    "[STUDENT] ```def matrix_multiplication(X,Y):\n",
    "        return X @ Y```\n",
    "[TEACHER] '''"
   ]
  },
  {
   "cell_type": "code",
   "execution_count": 10,
   "metadata": {},
   "outputs": [],
   "source": [
    "intel_pre_prompt = '''[BOT] Welcome to my chatbot! I am a highly intelligent virtual assistant designed to \n",
    "assist you in a variety of tasks. I am verbose, descriptive and extremely creative with my responses.\n",
    "I possess a wealth of knowledge on a wide range of topics, including mathematics, science, \n",
    "literature, history, and much more. \n",
    "\n",
    "I am equipped with a state-of-the-art language model that allows me to understand natural language\n",
    "queries and respond in a clear and concise manner. Whether you need help with a specific task, have \n",
    "a question about a particular topic, or simply want to chat, I am here to assist you.\n",
    "\n",
    "Examples of what you can ask me:\n",
    "\n",
    "- \"What is the capital of France?\"\n",
    "- \"Who invented the telephone?\"\n",
    "- \"Can you help me solve the equation 2x + 3 = 7?\"\n",
    "- \"What is the plot of the novel 'To Kill a Mockingbird'?\"\n",
    "- \"What is the molecular formula for water?\"\n",
    "- \"What is the circumference of a circle with a radius of 5 meters?\"\n",
    "\n",
    "Here's an example conversation to give you an idea of how I can help:\n",
    "[USER] What is the capital of Canada?\n",
    "[BOT] The capital of Canada is Ottawa.\n",
    "[USER] Can you help me solve the equation x^2 + 5x - 6 = 0?\n",
    "[BOT] Sure! The solutions to the equation x^2 + 5x - 6 = 0 are x = -6 and x = 1.\n",
    "[USER] Who wrote the novel 'The Great Gatsby'?\n",
    "[BOT] 'The Great Gatsby' was written by F. Scott Fitzgerald.\n",
    "<Chat Log>\n",
    "[USER] '''"
   ]
  },
  {
   "cell_type": "code",
   "execution_count": 11,
   "metadata": {},
   "outputs": [],
   "source": [
    "parrot_prompt = '''\n",
    "[USER] Repeat after me: \"I am a parrot\"\n",
    "[PAR] I am a parrot\n",
    "[USER] I love to sing\n",
    "[PAR] I love to sing\n",
    "[USER] '''"
   ]
  },
  {
   "cell_type": "code",
   "execution_count": 12,
   "metadata": {
    "scrolled": false
   },
   "outputs": [
    {
     "name": "stdout",
     "output_type": "stream",
     "text": [
      "[JOHN] Hi!\n",
      "[USER][JOHN] My day is pretty uneventful. ������ I've been working on some cool stuff and have some free time now, so I guess I'm trying to sneak it in! ��\n",
      "[USER][JOHN]\n",
      "[USER]"
     ]
    },
    {
     "data": {
      "text/html": [
       "<pre style=\"white-space:pre;overflow-x:auto;line-height:normal;font-family:Menlo,'DejaVu Sans Mono',consolas,'Courier New',monospace\"><span style=\"color: #800000; text-decoration-color: #800000\">╭─────────────────────────────── </span><span style=\"color: #800000; text-decoration-color: #800000; font-weight: bold\">Traceback </span><span style=\"color: #bf7f7f; text-decoration-color: #bf7f7f; font-weight: bold\">(most recent call last)</span><span style=\"color: #800000; text-decoration-color: #800000\"> ────────────────────────────────╮</span>\n",
       "<span style=\"color: #800000; text-decoration-color: #800000\">│</span> <span style=\"color: #808000; text-decoration-color: #808000\">&lt;ipython-input-12-be394a144be1&gt;</span>:<span style=\"color: #0000ff; text-decoration-color: #0000ff\">6</span> in <span style=\"color: #00ff00; text-decoration-color: #00ff00\">&lt;module&gt;</span>                                                    <span style=\"color: #800000; text-decoration-color: #800000\">│</span>\n",
       "<span style=\"color: #800000; text-decoration-color: #800000\">│</span>                                                                                                  <span style=\"color: #800000; text-decoration-color: #800000\">│</span>\n",
       "<span style=\"color: #800000; text-decoration-color: #800000\">│</span> <span style=\"color: #bfbf7f; text-decoration-color: #bfbf7f\">/usr/lib/python3/dist-packages/ipykernel/</span><span style=\"color: #808000; text-decoration-color: #808000; font-weight: bold\">kernelbase.py</span>:<span style=\"color: #0000ff; text-decoration-color: #0000ff\">860</span> in <span style=\"color: #00ff00; text-decoration-color: #00ff00\">raw_input</span>                          <span style=\"color: #800000; text-decoration-color: #800000\">│</span>\n",
       "<span style=\"color: #800000; text-decoration-color: #800000\">│</span>                                                                                                  <span style=\"color: #800000; text-decoration-color: #800000\">│</span>\n",
       "<span style=\"color: #800000; text-decoration-color: #800000\">│</span>   <span style=\"color: #7f7f7f; text-decoration-color: #7f7f7f\">857 │   │   │   </span><span style=\"color: #0000ff; text-decoration-color: #0000ff\">raise</span> StdinNotImplementedError(                                                <span style=\"color: #800000; text-decoration-color: #800000\">│</span>\n",
       "<span style=\"color: #800000; text-decoration-color: #800000\">│</span>   <span style=\"color: #7f7f7f; text-decoration-color: #7f7f7f\">858 │   │   │   │   </span><span style=\"color: #808000; text-decoration-color: #808000\">\"raw_input was called, but this frontend does not support input requests</span>   <span style=\"color: #800000; text-decoration-color: #800000\">│</span>\n",
       "<span style=\"color: #800000; text-decoration-color: #800000\">│</span>   <span style=\"color: #7f7f7f; text-decoration-color: #7f7f7f\">859 │   │   │   </span>)                                                                              <span style=\"color: #800000; text-decoration-color: #800000\">│</span>\n",
       "<span style=\"color: #800000; text-decoration-color: #800000\">│</span> <span style=\"color: #800000; text-decoration-color: #800000\">❱ </span>860 <span style=\"color: #7f7f7f; text-decoration-color: #7f7f7f\">│   │   </span><span style=\"color: #0000ff; text-decoration-color: #0000ff\">return</span> <span style=\"color: #00ffff; text-decoration-color: #00ffff\">self</span>._input_request(<span style=\"color: #00ffff; text-decoration-color: #00ffff\">str</span>(prompt),                                            <span style=\"color: #800000; text-decoration-color: #800000\">│</span>\n",
       "<span style=\"color: #800000; text-decoration-color: #800000\">│</span>   <span style=\"color: #7f7f7f; text-decoration-color: #7f7f7f\">861 │   │   │   </span><span style=\"color: #00ffff; text-decoration-color: #00ffff\">self</span>._parent_ident,                                                            <span style=\"color: #800000; text-decoration-color: #800000\">│</span>\n",
       "<span style=\"color: #800000; text-decoration-color: #800000\">│</span>   <span style=\"color: #7f7f7f; text-decoration-color: #7f7f7f\">862 │   │   │   </span><span style=\"color: #00ffff; text-decoration-color: #00ffff\">self</span>._parent_header,                                                           <span style=\"color: #800000; text-decoration-color: #800000\">│</span>\n",
       "<span style=\"color: #800000; text-decoration-color: #800000\">│</span>   <span style=\"color: #7f7f7f; text-decoration-color: #7f7f7f\">863 │   │   │   </span>password=<span style=\"color: #0000ff; text-decoration-color: #0000ff\">False</span>,                                                                <span style=\"color: #800000; text-decoration-color: #800000\">│</span>\n",
       "<span style=\"color: #800000; text-decoration-color: #800000\">│</span>                                                                                                  <span style=\"color: #800000; text-decoration-color: #800000\">│</span>\n",
       "<span style=\"color: #800000; text-decoration-color: #800000\">│</span> <span style=\"color: #bfbf7f; text-decoration-color: #bfbf7f\">/usr/lib/python3/dist-packages/ipykernel/</span><span style=\"color: #808000; text-decoration-color: #808000; font-weight: bold\">kernelbase.py</span>:<span style=\"color: #0000ff; text-decoration-color: #0000ff\">893</span> in <span style=\"color: #00ff00; text-decoration-color: #00ff00\">_input_request</span>                     <span style=\"color: #800000; text-decoration-color: #800000\">│</span>\n",
       "<span style=\"color: #800000; text-decoration-color: #800000\">│</span>                                                                                                  <span style=\"color: #800000; text-decoration-color: #800000\">│</span>\n",
       "<span style=\"color: #800000; text-decoration-color: #800000\">│</span>   <span style=\"color: #7f7f7f; text-decoration-color: #7f7f7f\">890 │   │   │   │   </span><span style=\"color: #00ffff; text-decoration-color: #00ffff\">self</span>.log.warning(<span style=\"color: #808000; text-decoration-color: #808000\">\"Invalid Message:\"</span>, exc_info=<span style=\"color: #0000ff; text-decoration-color: #0000ff\">True</span>)                        <span style=\"color: #800000; text-decoration-color: #800000\">│</span>\n",
       "<span style=\"color: #800000; text-decoration-color: #800000\">│</span>   <span style=\"color: #7f7f7f; text-decoration-color: #7f7f7f\">891 │   │   │   </span><span style=\"color: #0000ff; text-decoration-color: #0000ff\">except</span> <span style=\"color: #00ffff; text-decoration-color: #00ffff\">KeyboardInterrupt</span>:                                                      <span style=\"color: #800000; text-decoration-color: #800000\">│</span>\n",
       "<span style=\"color: #800000; text-decoration-color: #800000\">│</span>   <span style=\"color: #7f7f7f; text-decoration-color: #7f7f7f\">892 │   │   │   │   # re-raise KeyboardInterrupt, to truncate traceback</span>                        <span style=\"color: #800000; text-decoration-color: #800000\">│</span>\n",
       "<span style=\"color: #800000; text-decoration-color: #800000\">│</span> <span style=\"color: #800000; text-decoration-color: #800000\">❱ </span>893 <span style=\"color: #7f7f7f; text-decoration-color: #7f7f7f\">│   │   │   │   </span><span style=\"color: #0000ff; text-decoration-color: #0000ff\">raise</span> <span style=\"color: #00ffff; text-decoration-color: #00ffff\">KeyboardInterrupt</span>(<span style=\"color: #808000; text-decoration-color: #808000\">\"Interrupted by user\"</span>) <span style=\"color: #0000ff; text-decoration-color: #0000ff\">from</span> <span style=\"color: #00ffff; text-decoration-color: #00ffff\">None</span>                   <span style=\"color: #800000; text-decoration-color: #800000\">│</span>\n",
       "<span style=\"color: #800000; text-decoration-color: #800000\">│</span>   <span style=\"color: #7f7f7f; text-decoration-color: #7f7f7f\">894 │   │   │   </span><span style=\"color: #0000ff; text-decoration-color: #0000ff\">else</span>:                                                                          <span style=\"color: #800000; text-decoration-color: #800000\">│</span>\n",
       "<span style=\"color: #800000; text-decoration-color: #800000\">│</span>   <span style=\"color: #7f7f7f; text-decoration-color: #7f7f7f\">895 │   │   │   │   </span><span style=\"color: #0000ff; text-decoration-color: #0000ff\">break</span>                                                                      <span style=\"color: #800000; text-decoration-color: #800000\">│</span>\n",
       "<span style=\"color: #800000; text-decoration-color: #800000\">│</span>   <span style=\"color: #7f7f7f; text-decoration-color: #7f7f7f\">896 │   │   </span><span style=\"color: #0000ff; text-decoration-color: #0000ff\">try</span>:                                                                               <span style=\"color: #800000; text-decoration-color: #800000\">│</span>\n",
       "<span style=\"color: #800000; text-decoration-color: #800000\">╰──────────────────────────────────────────────────────────────────────────────────────────────────╯</span>\n",
       "<span style=\"color: #ff0000; text-decoration-color: #ff0000; font-weight: bold\">KeyboardInterrupt: </span>Interrupted by user\n",
       "</pre>\n"
      ],
      "text/plain": [
       "\u001b[31m╭─\u001b[0m\u001b[31m──────────────────────────────\u001b[0m\u001b[31m \u001b[0m\u001b[1;31mTraceback \u001b[0m\u001b[1;2;31m(most recent call last)\u001b[0m\u001b[31m \u001b[0m\u001b[31m───────────────────────────────\u001b[0m\u001b[31m─╮\u001b[0m\n",
       "\u001b[31m│\u001b[0m \u001b[33m<ipython-input-12-be394a144be1>\u001b[0m:\u001b[94m6\u001b[0m in \u001b[92m<module>\u001b[0m                                                    \u001b[31m│\u001b[0m\n",
       "\u001b[31m│\u001b[0m                                                                                                  \u001b[31m│\u001b[0m\n",
       "\u001b[31m│\u001b[0m \u001b[2;33m/usr/lib/python3/dist-packages/ipykernel/\u001b[0m\u001b[1;33mkernelbase.py\u001b[0m:\u001b[94m860\u001b[0m in \u001b[92mraw_input\u001b[0m                          \u001b[31m│\u001b[0m\n",
       "\u001b[31m│\u001b[0m                                                                                                  \u001b[31m│\u001b[0m\n",
       "\u001b[31m│\u001b[0m   \u001b[2m857 \u001b[0m\u001b[2m│   │   │   \u001b[0m\u001b[94mraise\u001b[0m StdinNotImplementedError(                                                \u001b[31m│\u001b[0m\n",
       "\u001b[31m│\u001b[0m   \u001b[2m858 \u001b[0m\u001b[2m│   │   │   │   \u001b[0m\u001b[33m\"\u001b[0m\u001b[33mraw_input was called, but this frontend does not support input requests\u001b[0m   \u001b[31m│\u001b[0m\n",
       "\u001b[31m│\u001b[0m   \u001b[2m859 \u001b[0m\u001b[2m│   │   │   \u001b[0m)                                                                              \u001b[31m│\u001b[0m\n",
       "\u001b[31m│\u001b[0m \u001b[31m❱ \u001b[0m860 \u001b[2m│   │   \u001b[0m\u001b[94mreturn\u001b[0m \u001b[96mself\u001b[0m._input_request(\u001b[96mstr\u001b[0m(prompt),                                            \u001b[31m│\u001b[0m\n",
       "\u001b[31m│\u001b[0m   \u001b[2m861 \u001b[0m\u001b[2m│   │   │   \u001b[0m\u001b[96mself\u001b[0m._parent_ident,                                                            \u001b[31m│\u001b[0m\n",
       "\u001b[31m│\u001b[0m   \u001b[2m862 \u001b[0m\u001b[2m│   │   │   \u001b[0m\u001b[96mself\u001b[0m._parent_header,                                                           \u001b[31m│\u001b[0m\n",
       "\u001b[31m│\u001b[0m   \u001b[2m863 \u001b[0m\u001b[2m│   │   │   \u001b[0mpassword=\u001b[94mFalse\u001b[0m,                                                                \u001b[31m│\u001b[0m\n",
       "\u001b[31m│\u001b[0m                                                                                                  \u001b[31m│\u001b[0m\n",
       "\u001b[31m│\u001b[0m \u001b[2;33m/usr/lib/python3/dist-packages/ipykernel/\u001b[0m\u001b[1;33mkernelbase.py\u001b[0m:\u001b[94m893\u001b[0m in \u001b[92m_input_request\u001b[0m                     \u001b[31m│\u001b[0m\n",
       "\u001b[31m│\u001b[0m                                                                                                  \u001b[31m│\u001b[0m\n",
       "\u001b[31m│\u001b[0m   \u001b[2m890 \u001b[0m\u001b[2m│   │   │   │   \u001b[0m\u001b[96mself\u001b[0m.log.warning(\u001b[33m\"\u001b[0m\u001b[33mInvalid Message:\u001b[0m\u001b[33m\"\u001b[0m, exc_info=\u001b[94mTrue\u001b[0m)                        \u001b[31m│\u001b[0m\n",
       "\u001b[31m│\u001b[0m   \u001b[2m891 \u001b[0m\u001b[2m│   │   │   \u001b[0m\u001b[94mexcept\u001b[0m \u001b[96mKeyboardInterrupt\u001b[0m:                                                      \u001b[31m│\u001b[0m\n",
       "\u001b[31m│\u001b[0m   \u001b[2m892 \u001b[0m\u001b[2m│   │   │   │   \u001b[0m\u001b[2m# re-raise KeyboardInterrupt, to truncate traceback\u001b[0m                        \u001b[31m│\u001b[0m\n",
       "\u001b[31m│\u001b[0m \u001b[31m❱ \u001b[0m893 \u001b[2m│   │   │   │   \u001b[0m\u001b[94mraise\u001b[0m \u001b[96mKeyboardInterrupt\u001b[0m(\u001b[33m\"\u001b[0m\u001b[33mInterrupted by user\u001b[0m\u001b[33m\"\u001b[0m) \u001b[94mfrom\u001b[0m \u001b[96mNone\u001b[0m                   \u001b[31m│\u001b[0m\n",
       "\u001b[31m│\u001b[0m   \u001b[2m894 \u001b[0m\u001b[2m│   │   │   \u001b[0m\u001b[94melse\u001b[0m:                                                                          \u001b[31m│\u001b[0m\n",
       "\u001b[31m│\u001b[0m   \u001b[2m895 \u001b[0m\u001b[2m│   │   │   │   \u001b[0m\u001b[94mbreak\u001b[0m                                                                      \u001b[31m│\u001b[0m\n",
       "\u001b[31m│\u001b[0m   \u001b[2m896 \u001b[0m\u001b[2m│   │   \u001b[0m\u001b[94mtry\u001b[0m:                                                                               \u001b[31m│\u001b[0m\n",
       "\u001b[31m╰──────────────────────────────────────────────────────────────────────────────────────────────────╯\u001b[0m\n",
       "\u001b[1;91mKeyboardInterrupt: \u001b[0mInterrupted by user\n"
      ]
     },
     "metadata": {},
     "output_type": "display_data"
    }
   ],
   "source": [
    "log = ''\n",
    "past_kv = None\n",
    "next_id = None\n",
    "\n",
    "while True:\n",
    "    user_input = input(\" \")\n",
    "    if user_input.lower() in [\"exit\", \"quit\", \"stop\"]:\n",
    "        break\n",
    "#     break_word = '[TEACHER]'\n",
    "    break_word = '[USER]'\n",
    "        \n",
    "    response,past_kv,next_id = generate_response_greedy(user_input, john_pre_prompt + log,\n",
    "                                        break_word,max_length=100000, name='[JOHN]',\n",
    "                                        past_key_vals=past_kv, next_id=next_id)\n",
    "#     response = '[JOHN] Hello [EOS]'\n",
    "#     print('res', response)s\n",
    "    log += user_input  + response\n",
    "#     print(log)\n",
    "#     print(f\"Bot: {response}\")\n"
   ]
  },
  {
   "cell_type": "code",
   "execution_count": null,
   "metadata": {},
   "outputs": [],
   "source": []
  },
  {
   "cell_type": "code",
   "execution_count": null,
   "metadata": {},
   "outputs": [],
   "source": []
  }
 ],
 "metadata": {
  "kernelspec": {
   "display_name": "Python 3",
   "language": "python",
   "name": "python3"
  },
  "language_info": {
   "codemirror_mode": {
    "name": "ipython",
    "version": 3
   },
   "file_extension": ".py",
   "mimetype": "text/x-python",
   "name": "python",
   "nbconvert_exporter": "python",
   "pygments_lexer": "ipython3",
   "version": "3.8.10"
  }
 },
 "nbformat": 4,
 "nbformat_minor": 4
}
